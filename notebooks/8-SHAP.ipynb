{
 "cells": [
  {
   "attachments": {},
   "cell_type": "markdown",
   "metadata": {},
   "source": [
    "# Introduction\n",
    "Rarely do we find ourselves demanding to know how predictive models do trivial things like determining the latest and greatest cat clip to put at the top of a Tik Tok feed. But for high stakes predictions or when conducting machine learning research, models cannot be treated as black boxes. In order to understand how input features affect model predictions, Shapley values, as introduced by American mathematician Lloyd Shapley, provide transparency, interpretability, and can guide decisions about predictive ML models."
   ]
  },
  {
   "attachments": {},
   "cell_type": "markdown",
   "metadata": {},
   "source": [
    "# The `shap` library for Python\n",
    "brief description"
   ]
  },
  {
   "attachments": {},
   "cell_type": "markdown",
   "metadata": {},
   "source": [
    "# Data load and pre-processing\n",
    "load from csv, pre-process"
   ]
  },
  {
   "attachments": {},
   "cell_type": "markdown",
   "metadata": {},
   "source": [
    "# Model training\n",
    "train briefly with relatively simple model"
   ]
  },
  {
   "attachments": {},
   "cell_type": "markdown",
   "metadata": {},
   "source": [
    "# Shapley value calculation\n",
    "calculate shapley values using shap"
   ]
  },
  {
   "attachments": {},
   "cell_type": "markdown",
   "metadata": {},
   "source": [
    "# Visualization\n",
    "vizualize shapley values"
   ]
  },
  {
   "attachments": {},
   "cell_type": "markdown",
   "metadata": {},
   "source": [
    "# Interpretation\n",
    "what the shapley values that we've calculated and visualized might tell us about the model"
   ]
  }
 ],
 "metadata": {
  "language_info": {
   "name": "python"
  },
  "orig_nbformat": 4
 },
 "nbformat": 4,
 "nbformat_minor": 2
}
