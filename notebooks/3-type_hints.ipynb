{
 "cells": [
  {
   "cell_type": "markdown",
   "metadata": {},
   "source": [
    "# Using Type Hints (15 mins)\n",
    "\n",
    "One of Fugue's core philosophies is adapting to data practitioners to let them define their logic in the most native grammar. In effect, this:\n",
    "\n",
    "* reduces boilerplate code\n",
    "* reduces framework lock-in\n",
    "* increase maintainability"
   ]
  },
  {
   "cell_type": "markdown",
   "metadata": {},
   "source": [
    "## Some Real Examples\n",
    "\n",
    "### Natural Language Processing\n",
    "\n",
    "\n",
    "\n"
   ]
  },
  {
   "cell_type": "markdown",
   "metadata": {},
   "source": [
    "### Distributed API Calls"
   ]
  },
  {
   "cell_type": "code",
   "execution_count": 4,
   "metadata": {},
   "outputs": [],
   "source": [
    "import requests as re\n",
    "\n",
    "res = re.get(\"https://pokeapi.co/api/v2/pokemon/ditto\")\n",
    "res.json()"
   ]
  },
  {
   "cell_type": "code",
   "execution_count": 3,
   "metadata": {},
   "outputs": [],
   "source": [
    "list_of_pokemon = [\"ditto\", \"pikachu\", \"bulbasaur\", \"squirtle\", \"geodude\"]"
   ]
  },
  {
   "cell_type": "code",
   "execution_count": null,
   "metadata": {},
   "outputs": [],
   "source": [
    "import pandas as pd\n",
    "from typing import List\n",
    "\n",
    "base_url = \"https://pokeapi.co/api/v2/pokemon/\"\n",
    "\n",
    "def call_api(pokemon: List[str]) -> pd.DataFrame:\n",
    "    names = []\n",
    "    id_numbers = []\n",
    "    types = []\n",
    "    for item in items:\n",
    "        res = re.get(f\"{base_url}item\").json()\n",
    "        names.append(res['Name'])\n",
    "        id_numbers.append(res[''])\n",
    "        descriptions.append(res['Description']\n",
    "\n"
   ]
  },
  {
   "cell_type": "markdown",
   "metadata": {},
   "source": [
    "## Increased Maintainability"
   ]
  }
 ],
 "metadata": {
  "kernelspec": {
   "display_name": "Python 3.8.13 ('fugue')",
   "language": "python",
   "name": "python3"
  },
  "language_info": {
   "codemirror_mode": {
    "name": "ipython",
    "version": 3
   },
   "file_extension": ".py",
   "mimetype": "text/x-python",
   "name": "python",
   "nbconvert_exporter": "python",
   "pygments_lexer": "ipython3",
   "version": "3.8.13"
  },
  "orig_nbformat": 4,
  "vscode": {
   "interpreter": {
    "hash": "9fcd6e71927f6b3e5f4fa4280b4e8e6a66aa8d4365bb61cf7ef4017620fc09b9"
   }
  }
 },
 "nbformat": 4,
 "nbformat_minor": 2
}
