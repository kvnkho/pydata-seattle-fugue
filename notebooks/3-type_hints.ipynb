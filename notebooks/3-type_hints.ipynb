{
 "cells": [
  {
   "cell_type": "markdown",
   "metadata": {},
   "source": [
    "# Using Type Hints (15 mins)\n",
    "\n",
    "[![Slack Status](https://img.shields.io/badge/slack-join_chat-white.svg?logo=slack&style=social)](http://slack.fugue.ai)\n",
    "\n",
    "One of Fugue's core philosophies is adapting to data practitioners to let them define their logic in the most grammar they are most comfortable with. In some cases, native Python is the most natural way to express operations. By abstracting framework-specific code, we can focus on the pure business logic.\n",
    "\n",
    "In effect, this:\n",
    "\n",
    "* reduces boilerplate code\n",
    "* reduces framework lock-in\n",
    "* increases maintainability"
   ]
  },
  {
   "cell_type": "markdown",
   "metadata": {},
   "source": [
    "## Different Ways to Define Functions\n",
    "\n",
    "Let's take a look at the following operation where we are preprocessing a list of tweets before feeding it into machine learning. First we create some mock data."
   ]
  },
  {
   "cell_type": "code",
   "execution_count": 1,
   "metadata": {},
   "outputs": [],
   "source": [
    "import pandas as pd\n",
    "\n",
    "tweet_data = {'tweet': ['Just saw the most beautiful sunset 🌅', \n",
    "                  'I can’t believe I finished my first marathon! 🏃‍♀️🏅', \n",
    "                  'This new restaurant in town is amazing 🍔🍟', \n",
    "                  'I’m so excited to start my new job tomorrow! 💼', \n",
    "                  'Finally got around to reading this amazing book 📖']}\n",
    "\n",
    "tweets = pd.DataFrame(tweet_data)"
   ]
  },
  {
   "cell_type": "markdown",
   "metadata": {},
   "source": [
    "In order to preprocess, it's easiest to focus on one tweet at a time. We use the `nltk` library to remove stop words and lemmatize the remaining words. All of this code is just meant to operate on one string. In practice, this function can be more complicated because of cleaning around capitalization, punctuation, symbols, etc.\n",
    "\n",
    "Similar operations can also be applied to parse for phone numbers or e-mail addresses."
   ]
  },
  {
   "cell_type": "code",
   "execution_count": 2,
   "metadata": {},
   "outputs": [
    {
     "name": "stderr",
     "output_type": "stream",
     "text": [
      "[nltk_data] Downloading package stopwords to\n",
      "[nltk_data]     /Users/kevinkho/nltk_data...\n",
      "[nltk_data]   Package stopwords is already up-to-date!\n"
     ]
    }
   ],
   "source": [
    "import nltk\n",
    "from nltk.corpus import stopwords\n",
    "from nltk.tokenize import word_tokenize\n",
    "from nltk.stem import WordNetLemmatizer\n",
    "\n",
    "nltk.download('stopwords')\n",
    "stop_words = set(stopwords.words('english'))\n",
    "lemmatizer = WordNetLemmatizer()\n",
    "\n",
    "def clean_tweet(tweet: str):\n",
    "    cleaned_tweets = []\n",
    "    tokens = word_tokenize(tweet.lower())\n",
    "    filtered_tokens = [token for token in tokens if token not in stop_words]\n",
    "    lemmatized_tokens = [lemmatizer.lemmatize(token) for token in filtered_tokens]\n",
    "    cleaned_tweet = ' '.join(lemmatized_tokens)\n",
    "    return cleaned_tweet\n"
   ]
  },
  {
   "cell_type": "markdown",
   "metadata": {},
   "source": [
    "Now, people that are very familiar may immediately write a function with Pandas in and Pandas out. But actually, there are other ways to define running the above function on our mock data. Here, we look at three possible definitions. The second one is interesting because it has no dependency on Pandas, even.\n",
    "\n",
    "It may seem like Pandas is the simplest for now, and that we shouldn't need to bother with the other ways. But we'll see later that some of these may be a better fit for other use cases."
   ]
  },
  {
   "cell_type": "code",
   "execution_count": 4,
   "metadata": {},
   "outputs": [],
   "source": [
    "from typing import List, Dict, Iterable, Any\n",
    "\n",
    "def preprocess_text(df: pd.DataFrame) -> pd.DataFrame:\n",
    "    return df.assign(cleaned=df['tweet'].apply(clean_tweet))\n",
    "\n",
    "def preprocess_text2(df: List[Dict[str,Any]]) -> Iterable[Dict[str,Any]]:\n",
    "    for row in df:\n",
    "        row['cleaned'] = clean_tweet(row['tweet'])\n",
    "        yield row\n",
    "\n",
    "def preprocess_text3(df: List[List[Any]]) -> pd.DataFrame:\n",
    "    for row in df:\n",
    "        row.append(clean_tweet(row[0]))\n",
    "\n",
    "    return pd.DataFrame(df, columns=['tweet', 'cleaned'])\n"
   ]
  },
  {
   "cell_type": "markdown",
   "metadata": {},
   "source": [
    "These are all still native Python functions. We can run them without any concern for Fugue."
   ]
  },
  {
   "cell_type": "code",
   "execution_count": 6,
   "metadata": {},
   "outputs": [
    {
     "data": {
      "text/html": [
       "<div>\n",
       "<style scoped>\n",
       "    .dataframe tbody tr th:only-of-type {\n",
       "        vertical-align: middle;\n",
       "    }\n",
       "\n",
       "    .dataframe tbody tr th {\n",
       "        vertical-align: top;\n",
       "    }\n",
       "\n",
       "    .dataframe thead th {\n",
       "        text-align: right;\n",
       "    }\n",
       "</style>\n",
       "<table border=\"1\" class=\"dataframe\">\n",
       "  <thead>\n",
       "    <tr style=\"text-align: right;\">\n",
       "      <th></th>\n",
       "      <th>tweet</th>\n",
       "      <th>cleaned</th>\n",
       "    </tr>\n",
       "  </thead>\n",
       "  <tbody>\n",
       "    <tr>\n",
       "      <th>0</th>\n",
       "      <td>Just saw the most beautiful sunset 🌅</td>\n",
       "      <td>saw beautiful sunset 🌅</td>\n",
       "    </tr>\n",
       "    <tr>\n",
       "      <th>1</th>\n",
       "      <td>I can’t believe I finished my first marathon! ...</td>\n",
       "      <td>’ believe finished first marathon ! 🏃‍♀️🏅</td>\n",
       "    </tr>\n",
       "    <tr>\n",
       "      <th>2</th>\n",
       "      <td>This new restaurant in town is amazing 🍔🍟</td>\n",
       "      <td>new restaurant town amazing 🍔🍟</td>\n",
       "    </tr>\n",
       "    <tr>\n",
       "      <th>3</th>\n",
       "      <td>I’m so excited to start my new job tomorrow! 💼</td>\n",
       "      <td>’ excited start new job tomorrow ! 💼</td>\n",
       "    </tr>\n",
       "    <tr>\n",
       "      <th>4</th>\n",
       "      <td>Finally got around to reading this amazing book 📖</td>\n",
       "      <td>finally got around reading amazing book 📖</td>\n",
       "    </tr>\n",
       "  </tbody>\n",
       "</table>\n",
       "</div>"
      ],
      "text/plain": [
       "                                               tweet  \\\n",
       "0               Just saw the most beautiful sunset 🌅   \n",
       "1  I can’t believe I finished my first marathon! ...   \n",
       "2          This new restaurant in town is amazing 🍔🍟   \n",
       "3     I’m so excited to start my new job tomorrow! 💼   \n",
       "4  Finally got around to reading this amazing book 📖   \n",
       "\n",
       "                                     cleaned  \n",
       "0                     saw beautiful sunset 🌅  \n",
       "1  ’ believe finished first marathon ! 🏃‍♀️🏅  \n",
       "2             new restaurant town amazing 🍔🍟  \n",
       "3       ’ excited start new job tomorrow ! 💼  \n",
       "4  finally got around reading amazing book 📖  "
      ]
     },
     "execution_count": 6,
     "metadata": {},
     "output_type": "execute_result"
    }
   ],
   "source": [
    "preprocess_text(tweets)"
   ]
  },
  {
   "cell_type": "markdown",
   "metadata": {},
   "source": [
    "The second definition returns a generator so we need to call list."
   ]
  },
  {
   "cell_type": "code",
   "execution_count": 8,
   "metadata": {},
   "outputs": [
    {
     "data": {
      "text/plain": [
       "[{'tweet': 'Just saw the most beautiful sunset 🌅',\n",
       "  'cleaned': 'saw beautiful sunset 🌅'},\n",
       " {'tweet': 'I can’t believe I finished my first marathon! 🏃\\u200d♀️🏅',\n",
       "  'cleaned': '’ believe finished first marathon ! 🏃\\u200d♀️🏅'},\n",
       " {'tweet': 'This new restaurant in town is amazing 🍔🍟',\n",
       "  'cleaned': 'new restaurant town amazing 🍔🍟'},\n",
       " {'tweet': 'I’m so excited to start my new job tomorrow! 💼',\n",
       "  'cleaned': '’ excited start new job tomorrow ! 💼'},\n",
       " {'tweet': 'Finally got around to reading this amazing book 📖',\n",
       "  'cleaned': 'finally got around reading amazing book 📖'}]"
      ]
     },
     "execution_count": 8,
     "metadata": {},
     "output_type": "execute_result"
    }
   ],
   "source": [
    "list(preprocess_text2(tweets.to_dict('records')))"
   ]
  },
  {
   "cell_type": "code",
   "execution_count": 10,
   "metadata": {},
   "outputs": [
    {
     "data": {
      "text/html": [
       "<div>\n",
       "<style scoped>\n",
       "    .dataframe tbody tr th:only-of-type {\n",
       "        vertical-align: middle;\n",
       "    }\n",
       "\n",
       "    .dataframe tbody tr th {\n",
       "        vertical-align: top;\n",
       "    }\n",
       "\n",
       "    .dataframe thead th {\n",
       "        text-align: right;\n",
       "    }\n",
       "</style>\n",
       "<table border=\"1\" class=\"dataframe\">\n",
       "  <thead>\n",
       "    <tr style=\"text-align: right;\">\n",
       "      <th></th>\n",
       "      <th>tweet</th>\n",
       "      <th>cleaned</th>\n",
       "    </tr>\n",
       "  </thead>\n",
       "  <tbody>\n",
       "    <tr>\n",
       "      <th>0</th>\n",
       "      <td>Just saw the most beautiful sunset 🌅</td>\n",
       "      <td>saw beautiful sunset 🌅</td>\n",
       "    </tr>\n",
       "    <tr>\n",
       "      <th>1</th>\n",
       "      <td>I can’t believe I finished my first marathon! ...</td>\n",
       "      <td>’ believe finished first marathon ! 🏃‍♀️🏅</td>\n",
       "    </tr>\n",
       "    <tr>\n",
       "      <th>2</th>\n",
       "      <td>This new restaurant in town is amazing 🍔🍟</td>\n",
       "      <td>new restaurant town amazing 🍔🍟</td>\n",
       "    </tr>\n",
       "    <tr>\n",
       "      <th>3</th>\n",
       "      <td>I’m so excited to start my new job tomorrow! 💼</td>\n",
       "      <td>’ excited start new job tomorrow ! 💼</td>\n",
       "    </tr>\n",
       "    <tr>\n",
       "      <th>4</th>\n",
       "      <td>Finally got around to reading this amazing book 📖</td>\n",
       "      <td>finally got around reading amazing book 📖</td>\n",
       "    </tr>\n",
       "  </tbody>\n",
       "</table>\n",
       "</div>"
      ],
      "text/plain": [
       "                                               tweet  \\\n",
       "0               Just saw the most beautiful sunset 🌅   \n",
       "1  I can’t believe I finished my first marathon! ...   \n",
       "2          This new restaurant in town is amazing 🍔🍟   \n",
       "3     I’m so excited to start my new job tomorrow! 💼   \n",
       "4  Finally got around to reading this amazing book 📖   \n",
       "\n",
       "                                     cleaned  \n",
       "0                     saw beautiful sunset 🌅  \n",
       "1  ’ believe finished first marathon ! 🏃‍♀️🏅  \n",
       "2             new restaurant town amazing 🍔🍟  \n",
       "3       ’ excited start new job tomorrow ! 💼  \n",
       "4  finally got around reading amazing book 📖  "
      ]
     },
     "execution_count": 10,
     "metadata": {},
     "output_type": "execute_result"
    }
   ],
   "source": [
    "preprocess_text3(tweets.values.tolist())"
   ]
  },
  {
   "cell_type": "markdown",
   "metadata": {},
   "source": [
    "## Bringing it to Fugue\n",
    "\n",
    "All of the above definitions can be interpreted by Fugue. If it works on the Pandas-engine with Fugue, it will automatically work on Spark, Dask, and Ray."
   ]
  },
  {
   "cell_type": "code",
   "execution_count": 40,
   "metadata": {},
   "outputs": [
    {
     "data": {
      "text/html": [
       "<div>\n",
       "<style scoped>\n",
       "    .dataframe tbody tr th:only-of-type {\n",
       "        vertical-align: middle;\n",
       "    }\n",
       "\n",
       "    .dataframe tbody tr th {\n",
       "        vertical-align: top;\n",
       "    }\n",
       "\n",
       "    .dataframe thead th {\n",
       "        text-align: right;\n",
       "    }\n",
       "</style>\n",
       "<table border=\"1\" class=\"dataframe\">\n",
       "  <thead>\n",
       "    <tr style=\"text-align: right;\">\n",
       "      <th></th>\n",
       "      <th>tweet</th>\n",
       "      <th>cleaned</th>\n",
       "    </tr>\n",
       "  </thead>\n",
       "  <tbody>\n",
       "    <tr>\n",
       "      <th>0</th>\n",
       "      <td>Just saw the most beautiful sunset 🌅</td>\n",
       "      <td>saw beautiful sunset 🌅</td>\n",
       "    </tr>\n",
       "    <tr>\n",
       "      <th>1</th>\n",
       "      <td>I can’t believe I finished my first marathon! ...</td>\n",
       "      <td>’ believe finished first marathon ! 🏃‍♀️🏅</td>\n",
       "    </tr>\n",
       "    <tr>\n",
       "      <th>2</th>\n",
       "      <td>This new restaurant in town is amazing 🍔🍟</td>\n",
       "      <td>new restaurant town amazing 🍔🍟</td>\n",
       "    </tr>\n",
       "    <tr>\n",
       "      <th>3</th>\n",
       "      <td>I’m so excited to start my new job tomorrow! 💼</td>\n",
       "      <td>’ excited start new job tomorrow ! 💼</td>\n",
       "    </tr>\n",
       "    <tr>\n",
       "      <th>4</th>\n",
       "      <td>Finally got around to reading this amazing book 📖</td>\n",
       "      <td>finally got around reading amazing book 📖</td>\n",
       "    </tr>\n",
       "  </tbody>\n",
       "</table>\n",
       "</div>"
      ],
      "text/plain": [
       "                                               tweet  \\\n",
       "0               Just saw the most beautiful sunset 🌅   \n",
       "1  I can’t believe I finished my first marathon! ...   \n",
       "2          This new restaurant in town is amazing 🍔🍟   \n",
       "3     I’m so excited to start my new job tomorrow! 💼   \n",
       "4  Finally got around to reading this amazing book 📖   \n",
       "\n",
       "                                     cleaned  \n",
       "0                     saw beautiful sunset 🌅  \n",
       "1  ’ believe finished first marathon ! 🏃‍♀️🏅  \n",
       "2             new restaurant town amazing 🍔🍟  \n",
       "3       ’ excited start new job tomorrow ! 💼  \n",
       "4  finally got around reading amazing book 📖  "
      ]
     },
     "execution_count": 40,
     "metadata": {},
     "output_type": "execute_result"
    }
   ],
   "source": [
    "from fugue import transform\n",
    "transform(tweets, preprocess_text, schema=\"*, cleaned:str\")"
   ]
  },
  {
   "cell_type": "markdown",
   "metadata": {},
   "source": [
    "Recall this is the one without any dependency on Pandas. Fugue applies the necessary conversions."
   ]
  },
  {
   "cell_type": "code",
   "execution_count": 41,
   "metadata": {},
   "outputs": [
    {
     "data": {
      "text/html": [
       "<div>\n",
       "<style scoped>\n",
       "    .dataframe tbody tr th:only-of-type {\n",
       "        vertical-align: middle;\n",
       "    }\n",
       "\n",
       "    .dataframe tbody tr th {\n",
       "        vertical-align: top;\n",
       "    }\n",
       "\n",
       "    .dataframe thead th {\n",
       "        text-align: right;\n",
       "    }\n",
       "</style>\n",
       "<table border=\"1\" class=\"dataframe\">\n",
       "  <thead>\n",
       "    <tr style=\"text-align: right;\">\n",
       "      <th></th>\n",
       "      <th>tweet</th>\n",
       "      <th>cleaned</th>\n",
       "    </tr>\n",
       "  </thead>\n",
       "  <tbody>\n",
       "    <tr>\n",
       "      <th>0</th>\n",
       "      <td>Just saw the most beautiful sunset 🌅</td>\n",
       "      <td>saw beautiful sunset 🌅</td>\n",
       "    </tr>\n",
       "    <tr>\n",
       "      <th>1</th>\n",
       "      <td>I can’t believe I finished my first marathon! ...</td>\n",
       "      <td>’ believe finished first marathon ! 🏃‍♀️🏅</td>\n",
       "    </tr>\n",
       "    <tr>\n",
       "      <th>2</th>\n",
       "      <td>This new restaurant in town is amazing 🍔🍟</td>\n",
       "      <td>new restaurant town amazing 🍔🍟</td>\n",
       "    </tr>\n",
       "    <tr>\n",
       "      <th>3</th>\n",
       "      <td>I’m so excited to start my new job tomorrow! 💼</td>\n",
       "      <td>’ excited start new job tomorrow ! 💼</td>\n",
       "    </tr>\n",
       "    <tr>\n",
       "      <th>4</th>\n",
       "      <td>Finally got around to reading this amazing book 📖</td>\n",
       "      <td>finally got around reading amazing book 📖</td>\n",
       "    </tr>\n",
       "  </tbody>\n",
       "</table>\n",
       "</div>"
      ],
      "text/plain": [
       "                                               tweet  \\\n",
       "0               Just saw the most beautiful sunset 🌅   \n",
       "1  I can’t believe I finished my first marathon! ...   \n",
       "2          This new restaurant in town is amazing 🍔🍟   \n",
       "3     I’m so excited to start my new job tomorrow! 💼   \n",
       "4  Finally got around to reading this amazing book 📖   \n",
       "\n",
       "                                     cleaned  \n",
       "0                     saw beautiful sunset 🌅  \n",
       "1  ’ believe finished first marathon ! 🏃‍♀️🏅  \n",
       "2             new restaurant town amazing 🍔🍟  \n",
       "3       ’ excited start new job tomorrow ! 💼  \n",
       "4  finally got around reading amazing book 📖  "
      ]
     },
     "execution_count": 41,
     "metadata": {},
     "output_type": "execute_result"
    }
   ],
   "source": [
    "transform(tweets, preprocess_text2, schema=\"*, cleaned:str\")"
   ]
  },
  {
   "cell_type": "markdown",
   "metadata": {},
   "source": [
    "For the last one, we'll run it with the Spark engine. If we use the Spark, Dask, or Ray engine, then the output will be a DataFrame that matches that engine. Note some of these frameworks are evaluated lazily, so we may need to call the appropriate methods."
   ]
  },
  {
   "cell_type": "code",
   "execution_count": 42,
   "metadata": {},
   "outputs": [
    {
     "data": {
      "text/html": [
       "<div>\n",
       "<style scoped>\n",
       "    .dataframe tbody tr th:only-of-type {\n",
       "        vertical-align: middle;\n",
       "    }\n",
       "\n",
       "    .dataframe tbody tr th {\n",
       "        vertical-align: top;\n",
       "    }\n",
       "\n",
       "    .dataframe thead th {\n",
       "        text-align: right;\n",
       "    }\n",
       "</style>\n",
       "<table border=\"1\" class=\"dataframe\">\n",
       "  <thead>\n",
       "    <tr style=\"text-align: right;\">\n",
       "      <th></th>\n",
       "      <th>tweet</th>\n",
       "      <th>cleaned</th>\n",
       "    </tr>\n",
       "  </thead>\n",
       "  <tbody>\n",
       "    <tr>\n",
       "      <th>0</th>\n",
       "      <td>Just saw the most beautiful sunset 🌅</td>\n",
       "      <td>saw beautiful sunset 🌅</td>\n",
       "    </tr>\n",
       "    <tr>\n",
       "      <th>1</th>\n",
       "      <td>I can’t believe I finished my first marathon! ...</td>\n",
       "      <td>’ believe finished first marathon ! 🏃‍♀️🏅</td>\n",
       "    </tr>\n",
       "    <tr>\n",
       "      <th>2</th>\n",
       "      <td>This new restaurant in town is amazing 🍔🍟</td>\n",
       "      <td>new restaurant town amazing 🍔🍟</td>\n",
       "    </tr>\n",
       "    <tr>\n",
       "      <th>3</th>\n",
       "      <td>I’m so excited to start my new job tomorrow! 💼</td>\n",
       "      <td>’ excited start new job tomorrow ! 💼</td>\n",
       "    </tr>\n",
       "    <tr>\n",
       "      <th>4</th>\n",
       "      <td>Finally got around to reading this amazing book 📖</td>\n",
       "      <td>finally got around reading amazing book 📖</td>\n",
       "    </tr>\n",
       "  </tbody>\n",
       "</table>\n",
       "</div>"
      ],
      "text/plain": [
       "                                               tweet  \\\n",
       "0               Just saw the most beautiful sunset 🌅   \n",
       "1  I can’t believe I finished my first marathon! ...   \n",
       "2          This new restaurant in town is amazing 🍔🍟   \n",
       "3     I’m so excited to start my new job tomorrow! 💼   \n",
       "4  Finally got around to reading this amazing book 📖   \n",
       "\n",
       "                                     cleaned  \n",
       "0                     saw beautiful sunset 🌅  \n",
       "1  ’ believe finished first marathon ! 🏃‍♀️🏅  \n",
       "2             new restaurant town amazing 🍔🍟  \n",
       "3       ’ excited start new job tomorrow ! 💼  \n",
       "4  finally got around reading amazing book 📖  "
      ]
     },
     "execution_count": 42,
     "metadata": {},
     "output_type": "execute_result"
    }
   ],
   "source": [
    "result = transform(tweets, preprocess_text3, schema=\"*, cleaned:str\", engine=\"dask\")\n",
    "print(result.type)\n",
    "\n",
    "# Use Dask methods to trigger lazy evaluation\n",
    "result.compute().head()"
   ]
  },
  {
   "cell_type": "markdown",
   "metadata": {},
   "source": [
    "# Incremental Adoption of Fugue\n",
    "\n",
    "One of Fugue's core principles is being non-invasive. It adjusts to developers. This is a good example of how Fugue can be leveraged for a single step in a pipeline. It's not all of nothing. A very common use case is having one or two steps that are very computationally expensive, and the rest can be left in Pandas. We can choose to only bring the necessary step to a cluster, saving money.\n",
    "\n",
    "For example, look at the code below.\n",
    "\n",
    "```python\n",
    "df = pd.read_parquet(...)\n",
    "result = transform(df, expensive_fn, schema=\"*, new_col:str\", engine=\"dask\")\n",
    "\n",
    "# This brings Dask DataFrames to Pandas\n",
    "result.compute()\n",
    "```"
   ]
  },
  {
   "cell_type": "markdown",
   "metadata": {},
   "source": [
    "In the same vein, Fugue can be used as a single step inside already existing Spark, Dask, and Ray pipelines to bring a Python/Pandas function over (we'll see more of this later). If a Spark, Dask, or Ray DataFrame is passed, we don't even need to specify the execution engine.\n",
    "\n",
    "```python\n",
    "ddf = dd.read_parquet(...)\n",
    "result = transform(ddf, expensive_fn, schema=\"*, new_col:str\")\n",
    "result.to_parquet(...)\n",
    "```"
   ]
  },
  {
   "cell_type": "markdown",
   "metadata": {},
   "source": [
    "## Use Cases\n",
    "\n",
    "### High Custom Business Logic\n",
    "\n",
    "It's very common for organizations to have Pandas-sized projects, and Spark-sized projects. But at the same time, there can be highly custom rule-based business logic. Fugue can be used to keep the code native, and also let users avoid having to maintain a Pandas implementation, and a Spark implementation. In these cases, the Pandas version is often highly tested and stable, so we should just use that rather than reinventing the wheel. It also helps operationally when the business logic changes."
   ]
  },
  {
   "cell_type": "code",
   "execution_count": 51,
   "metadata": {},
   "outputs": [],
   "source": [
    "df = pd.DataFrame({\n",
    "    'Name': ['Alice', 'Bob', 'Charlie', 'David', 'Eve', 'Frank', 'Grace', 'Henry', 'Isabella', 'Jack'],\n",
    "    'Age': [25, 35, 45, 22, 29, 38, 50, 31, 27, 42],\n",
    "    'Salary': [50000, 70000, 90000, 55000, 60000, 80000, 100000, 75000, 65000, 85000],\n",
    "    'Experience': [3, 7, 12, 2, 5, 9, 15, 6, 4, 10]\n",
    "})\n",
    "\n",
    "def custom_logic(df: List[Dict[str, Any]]) -> List[Dict[str, Any]]:\n",
    "    for row in df:\n",
    "        if row['Age'] <= 30:\n",
    "            row['title'] = 'Junior'\n",
    "        elif row['Experience'] >= 10:\n",
    "            row['title'] ='Senior'\n",
    "        elif row['Salary'] > 80000:\n",
    "            row['title'] ='High Earner'\n",
    "        elif row['Age'] > 40:\n",
    "            row['title'] ='Mid-Career'\n",
    "        else:\n",
    "            row['title'] ='Other'\n",
    "    return df"
   ]
  },
  {
   "cell_type": "code",
   "execution_count": 52,
   "metadata": {},
   "outputs": [
    {
     "data": {
      "text/html": [
       "<div>\n",
       "<style scoped>\n",
       "    .dataframe tbody tr th:only-of-type {\n",
       "        vertical-align: middle;\n",
       "    }\n",
       "\n",
       "    .dataframe tbody tr th {\n",
       "        vertical-align: top;\n",
       "    }\n",
       "\n",
       "    .dataframe thead th {\n",
       "        text-align: right;\n",
       "    }\n",
       "</style>\n",
       "<table border=\"1\" class=\"dataframe\">\n",
       "  <thead>\n",
       "    <tr style=\"text-align: right;\">\n",
       "      <th></th>\n",
       "      <th>Name</th>\n",
       "      <th>Age</th>\n",
       "      <th>Salary</th>\n",
       "      <th>Experience</th>\n",
       "      <th>title</th>\n",
       "    </tr>\n",
       "  </thead>\n",
       "  <tbody>\n",
       "    <tr>\n",
       "      <th>0</th>\n",
       "      <td>Alice</td>\n",
       "      <td>25</td>\n",
       "      <td>50000</td>\n",
       "      <td>3</td>\n",
       "      <td>Junior</td>\n",
       "    </tr>\n",
       "    <tr>\n",
       "      <th>1</th>\n",
       "      <td>Bob</td>\n",
       "      <td>35</td>\n",
       "      <td>70000</td>\n",
       "      <td>7</td>\n",
       "      <td>Other</td>\n",
       "    </tr>\n",
       "    <tr>\n",
       "      <th>2</th>\n",
       "      <td>Charlie</td>\n",
       "      <td>45</td>\n",
       "      <td>90000</td>\n",
       "      <td>12</td>\n",
       "      <td>Senior</td>\n",
       "    </tr>\n",
       "    <tr>\n",
       "      <th>3</th>\n",
       "      <td>David</td>\n",
       "      <td>22</td>\n",
       "      <td>55000</td>\n",
       "      <td>2</td>\n",
       "      <td>Junior</td>\n",
       "    </tr>\n",
       "    <tr>\n",
       "      <th>4</th>\n",
       "      <td>Eve</td>\n",
       "      <td>29</td>\n",
       "      <td>60000</td>\n",
       "      <td>5</td>\n",
       "      <td>Junior</td>\n",
       "    </tr>\n",
       "    <tr>\n",
       "      <th>5</th>\n",
       "      <td>Frank</td>\n",
       "      <td>38</td>\n",
       "      <td>80000</td>\n",
       "      <td>9</td>\n",
       "      <td>Other</td>\n",
       "    </tr>\n",
       "    <tr>\n",
       "      <th>6</th>\n",
       "      <td>Grace</td>\n",
       "      <td>50</td>\n",
       "      <td>100000</td>\n",
       "      <td>15</td>\n",
       "      <td>Senior</td>\n",
       "    </tr>\n",
       "    <tr>\n",
       "      <th>7</th>\n",
       "      <td>Henry</td>\n",
       "      <td>31</td>\n",
       "      <td>75000</td>\n",
       "      <td>6</td>\n",
       "      <td>Other</td>\n",
       "    </tr>\n",
       "    <tr>\n",
       "      <th>8</th>\n",
       "      <td>Isabella</td>\n",
       "      <td>27</td>\n",
       "      <td>65000</td>\n",
       "      <td>4</td>\n",
       "      <td>Junior</td>\n",
       "    </tr>\n",
       "    <tr>\n",
       "      <th>9</th>\n",
       "      <td>Jack</td>\n",
       "      <td>42</td>\n",
       "      <td>85000</td>\n",
       "      <td>10</td>\n",
       "      <td>Senior</td>\n",
       "    </tr>\n",
       "  </tbody>\n",
       "</table>\n",
       "</div>"
      ],
      "text/plain": [
       "       Name  Age  Salary  Experience   title\n",
       "0     Alice   25   50000           3  Junior\n",
       "1       Bob   35   70000           7   Other\n",
       "2   Charlie   45   90000          12  Senior\n",
       "3     David   22   55000           2  Junior\n",
       "4       Eve   29   60000           5  Junior\n",
       "5     Frank   38   80000           9   Other\n",
       "6     Grace   50  100000          15  Senior\n",
       "7     Henry   31   75000           6   Other\n",
       "8  Isabella   27   65000           4  Junior\n",
       "9      Jack   42   85000          10  Senior"
      ]
     },
     "execution_count": 52,
     "metadata": {},
     "output_type": "execute_result"
    }
   ],
   "source": [
    "transform(df, custom_logic, schema=\"*, title:str\")"
   ]
  },
  {
   "cell_type": "code",
   "execution_count": 11,
   "metadata": {},
   "outputs": [
    {
     "name": "stderr",
     "output_type": "stream",
     "text": [
      "Setting default log level to \"WARN\".\n",
      "To adjust logging level use sc.setLogLevel(newLevel). For SparkR, use setLogLevel(newLevel).\n"
     ]
    },
    {
     "name": "stdout",
     "output_type": "stream",
     "text": [
      "23/04/24 16:21:27 WARN NativeCodeLoader: Unable to load native-hadoop library for your platform... using builtin-java classes where applicable\n"
     ]
    },
    {
     "ename": "NameError",
     "evalue": "name 'transform' is not defined",
     "output_type": "error",
     "traceback": [
      "\u001b[0;31m---------------------------------------------------------------------------\u001b[0m",
      "\u001b[0;31mNameError\u001b[0m                                 Traceback (most recent call last)",
      "\u001b[1;32m/Users/kevinkho/Work/pydata-seattle-fugue/notebooks/3-type_hints.ipynb Cell 24\u001b[0m in \u001b[0;36m<cell line: 4>\u001b[0;34m()\u001b[0m\n\u001b[1;32m      <a href='vscode-notebook-cell:/Users/kevinkho/Work/pydata-seattle-fugue/notebooks/3-type_hints.ipynb#ch0000052?line=0'>1</a>\u001b[0m \u001b[39mfrom\u001b[39;00m \u001b[39mpyspark\u001b[39;00m\u001b[39m.\u001b[39;00m\u001b[39msql\u001b[39;00m \u001b[39mimport\u001b[39;00m SparkSession\n\u001b[1;32m      <a href='vscode-notebook-cell:/Users/kevinkho/Work/pydata-seattle-fugue/notebooks/3-type_hints.ipynb#ch0000052?line=1'>2</a>\u001b[0m spark \u001b[39m=\u001b[39m SparkSession\u001b[39m.\u001b[39mbuilder\u001b[39m.\u001b[39mgetOrCreate()\n\u001b[0;32m----> <a href='vscode-notebook-cell:/Users/kevinkho/Work/pydata-seattle-fugue/notebooks/3-type_hints.ipynb#ch0000052?line=3'>4</a>\u001b[0m transform(df, custom_logic, schema\u001b[39m=\u001b[39m\u001b[39m\"\u001b[39m\u001b[39m*, title:str\u001b[39m\u001b[39m\"\u001b[39m, engine\u001b[39m=\u001b[39mspark)\u001b[39m.\u001b[39mshow()\n",
      "\u001b[0;31mNameError\u001b[0m: name 'transform' is not defined"
     ]
    }
   ],
   "source": [
    "from pyspark.sql import SparkSession\n",
    "spark = SparkSession.builder.getOrCreate()\n",
    "\n",
    "transform(df, custom_logic, schema=\"*, title:str\", engine=spark).show()"
   ]
  },
  {
   "cell_type": "markdown",
   "metadata": {},
   "source": [
    "### Distributed API Calls\n",
    "\n",
    "Another use case is mapping over a lot of items that take long to process, but the result is small. These can easily be parallelized by Fugue, and users can get immediate benefit, even on a single machine. Below we show how to parallelize expensive API calls easily using Fugue.\n",
    "\n",
    "Using type hints can also give us an elegant solution."
   ]
  },
  {
   "cell_type": "code",
   "execution_count": null,
   "metadata": {},
   "outputs": [],
   "source": [
    "import time\n",
    "import requests as re"
   ]
  },
  {
   "cell_type": "markdown",
   "metadata": {},
   "source": [
    "Here we use the Pokemon API. The result is very large, but we're only concerned with getting a few fields."
   ]
  },
  {
   "cell_type": "code",
   "execution_count": 4,
   "metadata": {},
   "outputs": [],
   "source": [
    "res = re.get(\"https://pokeapi.co/api/v2/pokemon/ditto\")\n",
    "res.json()"
   ]
  },
  {
   "cell_type": "markdown",
   "metadata": {},
   "source": [
    "We will hit the API for each of the following Pokemon."
   ]
  },
  {
   "cell_type": "code",
   "execution_count": 29,
   "metadata": {},
   "outputs": [
    {
     "data": {
      "text/html": [
       "<div>\n",
       "<style scoped>\n",
       "    .dataframe tbody tr th:only-of-type {\n",
       "        vertical-align: middle;\n",
       "    }\n",
       "\n",
       "    .dataframe tbody tr th {\n",
       "        vertical-align: top;\n",
       "    }\n",
       "\n",
       "    .dataframe thead th {\n",
       "        text-align: right;\n",
       "    }\n",
       "</style>\n",
       "<table border=\"1\" class=\"dataframe\">\n",
       "  <thead>\n",
       "    <tr style=\"text-align: right;\">\n",
       "      <th></th>\n",
       "      <th>pokemon</th>\n",
       "    </tr>\n",
       "  </thead>\n",
       "  <tbody>\n",
       "    <tr>\n",
       "      <th>0</th>\n",
       "      <td>ditto</td>\n",
       "    </tr>\n",
       "    <tr>\n",
       "      <th>1</th>\n",
       "      <td>pikachu</td>\n",
       "    </tr>\n",
       "    <tr>\n",
       "      <th>2</th>\n",
       "      <td>bulbasaur</td>\n",
       "    </tr>\n",
       "    <tr>\n",
       "      <th>3</th>\n",
       "      <td>squirtle</td>\n",
       "    </tr>\n",
       "    <tr>\n",
       "      <th>4</th>\n",
       "      <td>geodude</td>\n",
       "    </tr>\n",
       "  </tbody>\n",
       "</table>\n",
       "</div>"
      ],
      "text/plain": [
       "     pokemon\n",
       "0      ditto\n",
       "1    pikachu\n",
       "2  bulbasaur\n",
       "3   squirtle\n",
       "4    geodude"
      ]
     },
     "execution_count": 29,
     "metadata": {},
     "output_type": "execute_result"
    }
   ],
   "source": [
    "pokemon_to_get = pd.DataFrame({\"pokemon\":[\"ditto\", \"pikachu\", \"bulbasaur\", \"squirtle\", \"geodude\", \"charmander\", \"articuno\", \"jigglypuff\"]})\n",
    "pokemon_to_get.head()"
   ]
  },
  {
   "cell_type": "markdown",
   "metadata": {},
   "source": [
    "We are just adding a `time.sleep(3)` to our API call so that we can simulate an expensive API call or operation. It also helps us see the parallelization benefits."
   ]
  },
  {
   "cell_type": "code",
   "execution_count": 21,
   "metadata": {},
   "outputs": [],
   "source": [
    "def expensive_api(pokemon):\n",
    "    base_url = \"https://pokeapi.co/api/v2/pokemon/\"\n",
    "    time.sleep(3)\n",
    "    return re.get(f\"{base_url}{pokemon}\").json()"
   ]
  },
  {
   "cell_type": "markdown",
   "metadata": {},
   "source": [
    "How would we do this with Pandas DataFrame in and Pandas DataFrame out? The function below is one possible solution. It's a best practice to only create the Pandas DataFrame once rather than using append."
   ]
  },
  {
   "cell_type": "code",
   "execution_count": 16,
   "metadata": {},
   "outputs": [
    {
     "data": {
      "text/html": [
       "<div>\n",
       "<style scoped>\n",
       "    .dataframe tbody tr th:only-of-type {\n",
       "        vertical-align: middle;\n",
       "    }\n",
       "\n",
       "    .dataframe tbody tr th {\n",
       "        vertical-align: top;\n",
       "    }\n",
       "\n",
       "    .dataframe thead th {\n",
       "        text-align: right;\n",
       "    }\n",
       "</style>\n",
       "<table border=\"1\" class=\"dataframe\">\n",
       "  <thead>\n",
       "    <tr style=\"text-align: right;\">\n",
       "      <th></th>\n",
       "      <th>name</th>\n",
       "      <th>id</th>\n",
       "      <th>type</th>\n",
       "    </tr>\n",
       "  </thead>\n",
       "  <tbody>\n",
       "    <tr>\n",
       "      <th>0</th>\n",
       "      <td>ditto</td>\n",
       "      <td>132</td>\n",
       "      <td>normal</td>\n",
       "    </tr>\n",
       "    <tr>\n",
       "      <th>1</th>\n",
       "      <td>pikachu</td>\n",
       "      <td>25</td>\n",
       "      <td>electric</td>\n",
       "    </tr>\n",
       "    <tr>\n",
       "      <th>2</th>\n",
       "      <td>bulbasaur</td>\n",
       "      <td>1</td>\n",
       "      <td>grass</td>\n",
       "    </tr>\n",
       "    <tr>\n",
       "      <th>3</th>\n",
       "      <td>squirtle</td>\n",
       "      <td>7</td>\n",
       "      <td>water</td>\n",
       "    </tr>\n",
       "    <tr>\n",
       "      <th>4</th>\n",
       "      <td>geodude</td>\n",
       "      <td>74</td>\n",
       "      <td>rock</td>\n",
       "    </tr>\n",
       "  </tbody>\n",
       "</table>\n",
       "</div>"
      ],
      "text/plain": [
       "        name   id      type\n",
       "0      ditto  132    normal\n",
       "1    pikachu   25  electric\n",
       "2  bulbasaur    1     grass\n",
       "3   squirtle    7     water\n",
       "4    geodude   74      rock"
      ]
     },
     "execution_count": 16,
     "metadata": {},
     "output_type": "execute_result"
    }
   ],
   "source": [
    "def get_data(pokemon: pd.DataFrame) -> pd.DataFrame:\n",
    "    names = []\n",
    "    id_numbers = []\n",
    "    types = []\n",
    "    for item in pokemon.values.tolist():\n",
    "        res = expensive_api(item)\n",
    "        names.append(res['forms'][0]['name'])\n",
    "        id_numbers.append(res['id'])\n",
    "        types.append(res['types'][0]['type']['name'])\n",
    "    return pd.DataFrame({'name': names, 'id': id_numbers, 'type': types})\n",
    "\n",
    "call_api(list_of_pokemon)"
   ]
  },
  {
   "cell_type": "markdown",
   "metadata": {},
   "source": [
    "But if we break free from the Pandas-constraint, we can use a more elegant definition. Fugue will handle the conversions."
   ]
  },
  {
   "cell_type": "code",
   "execution_count": 26,
   "metadata": {},
   "outputs": [],
   "source": [
    "def get_data_native(pokemon: List[List[Any]]) -> Iterable[Dict[str,Any]]:\n",
    "    for item in pokemon:\n",
    "        res = expensive_api(f\"{base_url}{item[0]}\")\n",
    "        yield {\"name\": res['forms'][0]['name'],\n",
    "               \"id\": res['id'],\n",
    "               \"type\": res['types'][0]['type']['name']}"
   ]
  },
  {
   "cell_type": "code",
   "execution_count": 27,
   "metadata": {},
   "outputs": [
    {
     "data": {
      "text/html": [
       "<div>\n",
       "<style scoped>\n",
       "    .dataframe tbody tr th:only-of-type {\n",
       "        vertical-align: middle;\n",
       "    }\n",
       "\n",
       "    .dataframe tbody tr th {\n",
       "        vertical-align: top;\n",
       "    }\n",
       "\n",
       "    .dataframe thead th {\n",
       "        text-align: right;\n",
       "    }\n",
       "</style>\n",
       "<table border=\"1\" class=\"dataframe\">\n",
       "  <thead>\n",
       "    <tr style=\"text-align: right;\">\n",
       "      <th></th>\n",
       "      <th>name</th>\n",
       "      <th>id</th>\n",
       "      <th>type</th>\n",
       "    </tr>\n",
       "  </thead>\n",
       "  <tbody>\n",
       "    <tr>\n",
       "      <th>0</th>\n",
       "      <td>ditto</td>\n",
       "      <td>132</td>\n",
       "      <td>normal</td>\n",
       "    </tr>\n",
       "    <tr>\n",
       "      <th>1</th>\n",
       "      <td>pikachu</td>\n",
       "      <td>25</td>\n",
       "      <td>electric</td>\n",
       "    </tr>\n",
       "    <tr>\n",
       "      <th>2</th>\n",
       "      <td>bulbasaur</td>\n",
       "      <td>1</td>\n",
       "      <td>grass</td>\n",
       "    </tr>\n",
       "    <tr>\n",
       "      <th>3</th>\n",
       "      <td>squirtle</td>\n",
       "      <td>7</td>\n",
       "      <td>water</td>\n",
       "    </tr>\n",
       "    <tr>\n",
       "      <th>4</th>\n",
       "      <td>geodude</td>\n",
       "      <td>74</td>\n",
       "      <td>rock</td>\n",
       "    </tr>\n",
       "  </tbody>\n",
       "</table>\n",
       "</div>"
      ],
      "text/plain": [
       "        name   id      type\n",
       "0      ditto  132    normal\n",
       "1    pikachu   25  electric\n",
       "2  bulbasaur    1     grass\n",
       "3   squirtle    7     water\n",
       "4    geodude   74      rock"
      ]
     },
     "execution_count": 27,
     "metadata": {},
     "output_type": "execute_result"
    }
   ],
   "source": [
    "transform(pokemon_to_get, get_data_native, schema=\"name: str, id: int, type: str\")"
   ]
  },
  {
   "cell_type": "markdown",
   "metadata": {},
   "source": [
    "Now, this will also work on Spark, Dask, and Ray. They will run the function for each row of the DataFrame in parallel or distributedly."
   ]
  },
  {
   "cell_type": "code",
   "execution_count": 28,
   "metadata": {},
   "outputs": [
    {
     "data": {
      "text/html": [
       "<div>\n",
       "<style scoped>\n",
       "    .dataframe tbody tr th:only-of-type {\n",
       "        vertical-align: middle;\n",
       "    }\n",
       "\n",
       "    .dataframe tbody tr th {\n",
       "        vertical-align: top;\n",
       "    }\n",
       "\n",
       "    .dataframe thead th {\n",
       "        text-align: right;\n",
       "    }\n",
       "</style>\n",
       "<table border=\"1\" class=\"dataframe\">\n",
       "  <thead>\n",
       "    <tr style=\"text-align: right;\">\n",
       "      <th></th>\n",
       "      <th>name</th>\n",
       "      <th>id</th>\n",
       "      <th>type</th>\n",
       "    </tr>\n",
       "  </thead>\n",
       "  <tbody>\n",
       "    <tr>\n",
       "      <th>0</th>\n",
       "      <td>ditto</td>\n",
       "      <td>132</td>\n",
       "      <td>normal</td>\n",
       "    </tr>\n",
       "    <tr>\n",
       "      <th>0</th>\n",
       "      <td>pikachu</td>\n",
       "      <td>25</td>\n",
       "      <td>electric</td>\n",
       "    </tr>\n",
       "    <tr>\n",
       "      <th>0</th>\n",
       "      <td>bulbasaur</td>\n",
       "      <td>1</td>\n",
       "      <td>grass</td>\n",
       "    </tr>\n",
       "    <tr>\n",
       "      <th>0</th>\n",
       "      <td>squirtle</td>\n",
       "      <td>7</td>\n",
       "      <td>water</td>\n",
       "    </tr>\n",
       "    <tr>\n",
       "      <th>0</th>\n",
       "      <td>geodude</td>\n",
       "      <td>74</td>\n",
       "      <td>rock</td>\n",
       "    </tr>\n",
       "  </tbody>\n",
       "</table>\n",
       "</div>"
      ],
      "text/plain": [
       "        name   id      type\n",
       "0      ditto  132    normal\n",
       "0    pikachu   25  electric\n",
       "0  bulbasaur    1     grass\n",
       "0   squirtle    7     water\n",
       "0    geodude   74      rock"
      ]
     },
     "execution_count": 28,
     "metadata": {},
     "output_type": "execute_result"
    }
   ],
   "source": [
    "transform(pokemon_to_get, \n",
    "          get_data_native, \n",
    "          schema=\"name: str, id: int, type: str\",\n",
    "          engine=\"dask\").compute()"
   ]
  },
  {
   "cell_type": "markdown",
   "metadata": {},
   "source": [
    "## Exercise\n",
    "\n",
    "Create a function to call the [Dinosaur API](https://dinosaur-facts-api.shultzlab.com/) random endpoint. It can take any input/output type that Fugue supports.\n",
    "\n",
    "For input, the suggested ones are:\n",
    "\n",
    "* `List[Dict[str,Any]]`\n",
    "* `pd.DataFrame`\n",
    "* `List[List[Any]]`\n",
    "\n",
    "For output, the suggested ones are:\n",
    "\n",
    "* `Iterable[Dict[str,Any]]`\n",
    "* `pd.DataFrame`\n",
    "* `List[List]`\n",
    "\n",
    "Remember that you can mix and match. Call the random endpoint for each item in the DataFrame below, and return the `name` and `description` of the dinosaur."
   ]
  },
  {
   "cell_type": "code",
   "execution_count": 31,
   "metadata": {},
   "outputs": [
    {
     "data": {
      "text/html": [
       "<div>\n",
       "<style scoped>\n",
       "    .dataframe tbody tr th:only-of-type {\n",
       "        vertical-align: middle;\n",
       "    }\n",
       "\n",
       "    .dataframe tbody tr th {\n",
       "        vertical-align: top;\n",
       "    }\n",
       "\n",
       "    .dataframe thead th {\n",
       "        text-align: right;\n",
       "    }\n",
       "</style>\n",
       "<table border=\"1\" class=\"dataframe\">\n",
       "  <thead>\n",
       "    <tr style=\"text-align: right;\">\n",
       "      <th></th>\n",
       "      <th>item</th>\n",
       "    </tr>\n",
       "  </thead>\n",
       "  <tbody>\n",
       "    <tr>\n",
       "      <th>0</th>\n",
       "      <td>1</td>\n",
       "    </tr>\n",
       "    <tr>\n",
       "      <th>1</th>\n",
       "      <td>2</td>\n",
       "    </tr>\n",
       "    <tr>\n",
       "      <th>2</th>\n",
       "      <td>3</td>\n",
       "    </tr>\n",
       "    <tr>\n",
       "      <th>3</th>\n",
       "      <td>4</td>\n",
       "    </tr>\n",
       "    <tr>\n",
       "      <th>4</th>\n",
       "      <td>5</td>\n",
       "    </tr>\n",
       "  </tbody>\n",
       "</table>\n",
       "</div>"
      ],
      "text/plain": [
       "   item\n",
       "0     1\n",
       "1     2\n",
       "2     3\n",
       "3     4\n",
       "4     5"
      ]
     },
     "execution_count": 31,
     "metadata": {},
     "output_type": "execute_result"
    }
   ],
   "source": [
    "df = pd.DataFrame({\"item\": [1,2,3,4,5,6,7,8]})\n",
    "df.head()"
   ]
  },
  {
   "cell_type": "markdown",
   "metadata": {},
   "source": [
    "The `transform()` call should look like the following. You just need to write the appropriate `fn`.\n",
    "\n",
    "`transform(df, fn, schema=\"name:str, description:str\")`"
   ]
  },
  {
   "cell_type": "markdown",
   "metadata": {},
   "source": [
    "## Increased Maintainability\n",
    "\n",
    "By keeping code as native as following, and only bringing it to Spark, Dask, and Ray during runtime, the code becomes highly testable and maintainable. Specific framework expertise is not needed to maintain the logic. Data practitioners that only know Python can read and understand the logic. Second, the logic can be unit tested without having the needed cluster. Users can iterate as much as possible on the local machine. "
   ]
  },
  {
   "cell_type": "markdown",
   "metadata": {},
   "source": []
  }
 ],
 "metadata": {
  "kernelspec": {
   "display_name": "Python 3.8.13 ('fugue')",
   "language": "python",
   "name": "python3"
  },
  "language_info": {
   "codemirror_mode": {
    "name": "ipython",
    "version": 3
   },
   "file_extension": ".py",
   "mimetype": "text/x-python",
   "name": "python",
   "nbconvert_exporter": "python",
   "pygments_lexer": "ipython3",
   "version": "3.8.13"
  },
  "orig_nbformat": 4,
  "vscode": {
   "interpreter": {
    "hash": "9fcd6e71927f6b3e5f4fa4280b4e8e6a66aa8d4365bb61cf7ef4017620fc09b9"
   }
  }
 },
 "nbformat": 4,
 "nbformat_minor": 2
}
