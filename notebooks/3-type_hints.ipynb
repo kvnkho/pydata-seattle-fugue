{
 "cells": [
  {
   "cell_type": "markdown",
   "metadata": {},
   "source": [
    "# Using Type Hints (15 mins)\n",
    "\n",
    "One of Fugue's core philosophies is adapting to data practitioners to let them define their logic in the most native grammar. In effect, this:\n",
    "\n",
    "* reduces boilerplate code\n",
    "* reduces framework lock-in\n",
    "* increase maintainability"
   ]
  },
  {
   "cell_type": "markdown",
   "metadata": {},
   "source": [
    "## Some Real Examples\n",
    "\n",
    "### Natural Language Processing\n",
    "\n",
    "\n",
    "\n"
   ]
  },
  {
   "cell_type": "markdown",
   "metadata": {},
   "source": [
    "### Distributed API Calls"
   ]
  },
  {
   "cell_type": "code",
   "execution_count": 4,
   "metadata": {},
   "outputs": [],
   "source": [
    "import requests as re\n",
    "\n",
    "res = re.get(\"https://pokeapi.co/api/v2/pokemon/ditto\")\n",
    "res.json()"
   ]
  },
  {
   "cell_type": "code",
   "execution_count": 3,
   "metadata": {},
   "outputs": [],
   "source": [
    "list_of_pokemon = [\"ditto\", \"pikachu\", \"bulbasaur\", \"squirtle\", \"geodude\"]"
   ]
  },
  {
   "cell_type": "code",
   "execution_count": null,
   "metadata": {},
   "outputs": [],
   "source": [
    "import pandas as pd\n",
    "from typing import List\n",
    "import time\n",
    "\n",
    "base_url = \"https://pokeapi.co/api/v2/pokemon/\"\n",
    "\n",
    "def expensive_api(url):\n",
    "    time.sleep(3)\n",
    "    return re.get(url).json()"
   ]
  },
  {
   "cell_type": "code",
   "execution_count": 13,
   "metadata": {},
   "outputs": [
    {
     "data": {
      "text/html": [
       "<div>\n",
       "<style scoped>\n",
       "    .dataframe tbody tr th:only-of-type {\n",
       "        vertical-align: middle;\n",
       "    }\n",
       "\n",
       "    .dataframe tbody tr th {\n",
       "        vertical-align: top;\n",
       "    }\n",
       "\n",
       "    .dataframe thead th {\n",
       "        text-align: right;\n",
       "    }\n",
       "</style>\n",
       "<table border=\"1\" class=\"dataframe\">\n",
       "  <thead>\n",
       "    <tr style=\"text-align: right;\">\n",
       "      <th></th>\n",
       "      <th>name</th>\n",
       "      <th>id</th>\n",
       "      <th>type</th>\n",
       "    </tr>\n",
       "  </thead>\n",
       "  <tbody>\n",
       "    <tr>\n",
       "      <th>0</th>\n",
       "      <td>ditto</td>\n",
       "      <td>132</td>\n",
       "      <td>normal</td>\n",
       "    </tr>\n",
       "    <tr>\n",
       "      <th>1</th>\n",
       "      <td>pikachu</td>\n",
       "      <td>25</td>\n",
       "      <td>electric</td>\n",
       "    </tr>\n",
       "    <tr>\n",
       "      <th>2</th>\n",
       "      <td>bulbasaur</td>\n",
       "      <td>1</td>\n",
       "      <td>grass</td>\n",
       "    </tr>\n",
       "    <tr>\n",
       "      <th>3</th>\n",
       "      <td>squirtle</td>\n",
       "      <td>7</td>\n",
       "      <td>water</td>\n",
       "    </tr>\n",
       "    <tr>\n",
       "      <th>4</th>\n",
       "      <td>geodude</td>\n",
       "      <td>74</td>\n",
       "      <td>rock</td>\n",
       "    </tr>\n",
       "  </tbody>\n",
       "</table>\n",
       "</div>"
      ],
      "text/plain": [
       "        name   id      type\n",
       "0      ditto  132    normal\n",
       "1    pikachu   25  electric\n",
       "2  bulbasaur    1     grass\n",
       "3   squirtle    7     water\n",
       "4    geodude   74      rock"
      ]
     },
     "execution_count": 13,
     "metadata": {},
     "output_type": "execute_result"
    }
   ],
   "source": [
    "def get_data(pokemon: List[str]) -> pd.DataFrame:\n",
    "    names = []\n",
    "    id_numbers = []\n",
    "    types = []\n",
    "    for item in pokemon:\n",
    "        res = expensive_api(f\"{base_url}{item}\")\n",
    "        names.append(res['forms'][0]['name'])\n",
    "        id_numbers.append(res['id'])\n",
    "        types.append(res['types'][0]['type']['name'])\n",
    "    return pd.DataFrame({'name': names, 'id': id_numbers, 'type': types})\n",
    "\n",
    "call_api(list_of_pokemon)"
   ]
  },
  {
   "cell_type": "code",
   "execution_count": null,
   "metadata": {},
   "outputs": [],
   "source": [
    "from typing import Iterable, List, Any\n",
    "\n",
    "def get_data_fugue(pokemon: List[Dict[str,Any]]) -> Iterable[Dict[str,Any]]:\n",
    "def get_data(pokemon: List[str]) -> pd.DataFrame:\n",
    "    names = []\n",
    "    id_numbers = []\n",
    "    types = []\n",
    "    for item in pokemon:\n",
    "        res = expensive_api(f\"{base_url}{item}\")\n",
    "        names.append(res['forms'][0]['name'])\n",
    "        id_numbers.append(res['id'])\n",
    "        types.append(res['types'][0]['type']['name'])\n",
    "    return pd.DataFrame({'name': names, 'id': id_numbers, 'type': types})"
   ]
  },
  {
   "cell_type": "markdown",
   "metadata": {},
   "source": [
    "## Increased Maintainability"
   ]
  }
 ],
 "metadata": {
  "kernelspec": {
   "display_name": "Python 3.8.13 ('fugue')",
   "language": "python",
   "name": "python3"
  },
  "language_info": {
   "codemirror_mode": {
    "name": "ipython",
    "version": 3
   },
   "file_extension": ".py",
   "mimetype": "text/x-python",
   "name": "python",
   "nbconvert_exporter": "python",
   "pygments_lexer": "ipython3",
   "version": "3.8.13"
  },
  "orig_nbformat": 4,
  "vscode": {
   "interpreter": {
    "hash": "9fcd6e71927f6b3e5f4fa4280b4e8e6a66aa8d4365bb61cf7ef4017620fc09b9"
   }
  }
 },
 "nbformat": 4,
 "nbformat_minor": 2
}
